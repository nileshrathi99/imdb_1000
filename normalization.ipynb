{
 "cells": [
  {
   "cell_type": "code",
   "execution_count": 22,
   "metadata": {},
   "outputs": [],
   "source": [
    "config = {\n",
    "  'user': 'root',\n",
    "  'password': 'root',\n",
    "  'host': '127.0.0.1',\n",
    "  'port': 8889,\n",
    "  'database': 'project',\n",
    "  'raise_on_warnings': True\n",
    "}"
   ]
  },
  {
   "cell_type": "code",
   "execution_count": 23,
   "metadata": {},
   "outputs": [],
   "source": [
    "# create a MySQL server connection object\n",
    "import mysql.connector\n",
    "mydb = mysql.connector.connect(**config)\n",
    "my_cursor = mydb.cursor(dictionary=True)"
   ]
  },
  {
   "cell_type": "code",
   "execution_count": 24,
   "metadata": {},
   "outputs": [
    {
     "data": {
      "text/plain": [
       "[{'table_name': 'imdb'},\n",
       " {'table_name': 'movies'},\n",
       " {'table_name': 'roles'},\n",
       " {'table_name': 'scores'},\n",
       " {'table_name': 'users'}]"
      ]
     },
     "execution_count": 24,
     "metadata": {},
     "output_type": "execute_result"
    }
   ],
   "source": [
    "my_cursor.execute(\" SELECT table_name FROM information_schema.tables WHERE table_schema ='project' \")\n",
    "my_result = my_cursor.fetchall()\n",
    "my_result"
   ]
  },
  {
   "cell_type": "markdown",
   "metadata": {},
   "source": [
    "`Base Table`"
   ]
  },
  {
   "cell_type": "code",
   "execution_count": 25,
   "metadata": {},
   "outputs": [
    {
     "name": "stdout",
     "output_type": "stream",
     "text": [
      "{'Poster_Link': 'https://m.media-amazon.com/images/M/MV5BMDFkYTc0MGEtZmNhMC00ZDIzLWFmNTEtODM1ZmRlYWMwMWFmXkEyXkFqcGdeQXVyMTMxODk2OTU@._V1_UX67_CR0,0,67,98_AL_.jpg', 'Series_Title': 'The Shawshank Redemption', 'Released_Year': 1994, 'Certificate': 'A', 'Runtime': 142, 'Genre': 'Drama', 'IMDB_Rating': 9.3, 'Overview': 'Two imprisoned men bond over a number of years, finding solace and eventual redemption through acts of common decency.', 'Meta_score': 80.0, 'Director': 'Frank Darabont', 'Star1': 'Tim Robbins', 'Star2': 'Morgan Freeman', 'Star3': 'Bob Gunton', 'Star4': 'William Sadler', 'No_of_Votes': 2343110, 'Gross': 28341469}\n",
      "{'Poster_Link': 'https://m.media-amazon.com/images/M/MV5BM2MyNjYxNmUtYTAwNi00MTYxLWJmNWYtYzZlODY3ZTk3OTFlXkEyXkFqcGdeQXVyNzkwMjQ5NzM@._V1_UY98_CR1,0,67,98_AL_.jpg', 'Series_Title': 'The Godfather', 'Released_Year': 1972, 'Certificate': 'A', 'Runtime': 175, 'Genre': 'Crime, Drama', 'IMDB_Rating': 9.2, 'Overview': \"An organized crime dynasty's aging patriarch transfers control of his clandestine empire to his reluctant son.\", 'Meta_score': 100.0, 'Director': 'Francis Ford Coppola', 'Star1': 'Marlon Brando', 'Star2': 'Al Pacino', 'Star3': 'James Caan', 'Star4': 'Diane Keaton', 'No_of_Votes': 1620367, 'Gross': 134966411}\n",
      "{'Poster_Link': 'https://m.media-amazon.com/images/M/MV5BMTMxNTMwODM0NF5BMl5BanBnXkFtZTcwODAyMTk2Mw@@._V1_UX67_CR0,0,67,98_AL_.jpg', 'Series_Title': 'The Dark Knight', 'Released_Year': 2008, 'Certificate': 'UA', 'Runtime': 152, 'Genre': 'Action, Crime, Drama', 'IMDB_Rating': 9.0, 'Overview': 'When the menace known as the Joker wreaks havoc and chaos on the people of Gotham, Batman must accept one of the greatest psychological and physical tests of his ability to fight injustice.', 'Meta_score': 84.0, 'Director': 'Christopher Nolan', 'Star1': 'Christian Bale', 'Star2': 'Heath Ledger', 'Star3': 'Aaron Eckhart', 'Star4': 'Michael Caine', 'No_of_Votes': 2303232, 'Gross': 534858444}\n",
      "{'Poster_Link': 'https://m.media-amazon.com/images/M/MV5BMWMwMGQzZTItY2JlNC00OWZiLWIyMDctNDk2ZDQ2YjRjMWQ0XkEyXkFqcGdeQXVyNzkwMjQ5NzM@._V1_UY98_CR1,0,67,98_AL_.jpg', 'Series_Title': 'The Godfather: Part II', 'Released_Year': 1974, 'Certificate': 'A', 'Runtime': 202, 'Genre': 'Crime, Drama', 'IMDB_Rating': 9.0, 'Overview': 'The early life and career of Vito Corleone in 1920s New York City is portrayed, while his son, Michael, expands and tightens his grip on the family crime syndicate.', 'Meta_score': 90.0, 'Director': 'Francis Ford Coppola', 'Star1': 'Al Pacino', 'Star2': 'Robert De Niro', 'Star3': 'Robert Duvall', 'Star4': 'Diane Keaton', 'No_of_Votes': 1129952, 'Gross': 57300000}\n",
      "{'Poster_Link': 'https://m.media-amazon.com/images/M/MV5BMWU4N2FjNzYtNTVkNC00NzQ0LTg0MjAtYTJlMjFhNGUxZDFmXkEyXkFqcGdeQXVyNjc1NTYyMjg@._V1_UX67_CR0,0,67,98_AL_.jpg', 'Series_Title': '12 Angry Men', 'Released_Year': 1957, 'Certificate': 'U', 'Runtime': 96, 'Genre': 'Crime, Drama', 'IMDB_Rating': 9.0, 'Overview': 'A jury holdout attempts to prevent a miscarriage of justice by forcing his colleagues to reconsider the evidence.', 'Meta_score': 96.0, 'Director': 'Sidney Lumet', 'Star1': 'Henry Fonda', 'Star2': 'Lee J. Cobb', 'Star3': 'Martin Balsam', 'Star4': 'John Fiedler', 'No_of_Votes': 689845, 'Gross': 4360000}\n"
     ]
    }
   ],
   "source": [
    "query = \"select * from imdb limit 5\"\n",
    "my_cursor.execute(query)\n",
    "for movie_info in my_cursor:\n",
    "    print(movie_info)\n"
   ]
  },
  {
   "cell_type": "markdown",
   "metadata": {},
   "source": [
    "`Normalization`"
   ]
  },
  {
   "cell_type": "markdown",
   "metadata": {},
   "source": [
    "### Create Tables"
   ]
  },
  {
   "cell_type": "markdown",
   "metadata": {},
   "source": [
    "#### Create Table 1: `movies` This table stores detailed information about each movie."
   ]
  },
  {
   "cell_type": "code",
   "execution_count": null,
   "metadata": {},
   "outputs": [],
   "source": [
    "query = \\\n",
    "\"\"\"\n",
    "CREATE TABLE movies(\n",
    "    movie_id INTEGER NOT NULL AUTO_INCREMENT, -- Unique identifier for each movie\n",
    "    title VARCHAR(255) NOT NULL, -- Movie title\n",
    "    poster_link VARCHAR(255) NOT NULL, -- Link to the movie's poster\n",
    "    released_year INTEGER NOT NULL, -- Year the movie was released\n",
    "    certificate VARCHAR(10) NOT NULL, -- Certification of the movie (e.g., PG-13, R)\n",
    "    runtime INTEGER NOT NULL, -- Duration of the movie in minutes\n",
    "    genre VARCHAR(255) NOT NULL, -- Genre of the movie\n",
    "    overview TEXT, -- Brief overview or summary of the movie\n",
    "    gross DECIMAL(15, 2), -- Gross earnings of the movie\n",
    "    PRIMARY KEY(movie_id) -- Defining movie_id as the primary key\n",
    ");\n",
    "\"\"\"\n",
    "my_cursor.execute(query)"
   ]
  },
  {
   "cell_type": "markdown",
   "metadata": {},
   "source": [
    "#### Create Table 2: `scores` Stores different scores and ratings related to the movies."
   ]
  },
  {
   "cell_type": "code",
   "execution_count": null,
   "metadata": {},
   "outputs": [],
   "source": [
    "query = \\\n",
    "\"\"\"\n",
    "CREATE TABLE scores (\n",
    "    score_id INT NOT NULL AUTO_INCREMENT, -- Unique identifier for each score\n",
    "    movie_id INT NOT NULL, -- References a movie by its movie_id\n",
    "    imdb_rating DECIMAL(3, 1) CHECK (imdb_rating BETWEEN 1.0 AND 10.0), -- IMDb rating with a constraint\n",
    "    meta_score INT CHECK (meta_score BETWEEN 0 AND 100), -- Metascore rating with a constraint\n",
    "    PRIMARY KEY (score_id), -- Defining score_id as the primary key\n",
    "    FOREIGN KEY (movie_id) REFERENCES movies(movie_id) ON DELETE CASCADE -- Connecting to the movies table, enabling cascade delete\n",
    ");\n",
    "\"\"\"\n",
    "my_cursor.execute(query)"
   ]
  },
  {
   "cell_type": "markdown",
   "metadata": {},
   "source": [
    "#### Create Table 3: `roles` Manages information about the cast and their roles in movies."
   ]
  },
  {
   "cell_type": "code",
   "execution_count": null,
   "metadata": {},
   "outputs": [],
   "source": [
    "query = \\\n",
    "\"\"\"\n",
    "CREATE TABLE roles (\n",
    "    role_id INT NOT NULL AUTO_INCREMENT, -- Unique identifier for each role\n",
    "    movie_id INT NOT NULL, -- References a movie by its movie_id\n",
    "    actor_name VARCHAR(255) NOT NULL, -- Name of the actor/actress\n",
    "    role VARCHAR(255) NOT NULL, -- Role played by the actor/actress\n",
    "    PRIMARY KEY (role_id), -- Defining role_id as the primary key\n",
    "    FOREIGN KEY (movie_id) REFERENCES movies(movie_id) ON DELETE CASCADE -- Connecting to the movies table, enabling cascade delete\n",
    ");\n",
    "\"\"\"\n",
    "my_cursor.execute(query)"
   ]
  },
  {
   "cell_type": "markdown",
   "metadata": {},
   "source": [
    "#### Create Table 4: `users` Contains user-specific data related to movie reviews and ratings."
   ]
  },
  {
   "cell_type": "code",
   "execution_count": null,
   "metadata": {},
   "outputs": [],
   "source": [
    "query = \\\n",
    "\"\"\"\n",
    "CREATE TABLE users (\n",
    "    user_id INT NOT NULL AUTO_INCREMENT, -- Unique identifier for each user\n",
    "    movie_id INT NOT NULL, -- References a movie by its movie_id\n",
    "    username VARCHAR(255) NOT NULL, -- Username of the user\n",
    "    first_name VARCHAR(255), -- First name of the user\n",
    "    last_name VARCHAR(255), -- Last name of the user\n",
    "    review VARCHAR(255), -- User's review of the movie\n",
    "    user_rating DECIMAL(3, 1) NOT NULL CHECK (user_rating BETWEEN 1.0 AND 10.0), -- User's rating with a constraint\n",
    "    PRIMARY KEY (user_id), -- Defining user_id as the primary key\n",
    "    FOREIGN KEY (movie_id) REFERENCES movies(movie_id) ON DELETE CASCADE -- Connecting to the movies table, enabling cascade delete\n",
    ");\n",
    "\"\"\"\n",
    "my_cursor.execute(query)"
   ]
  },
  {
   "cell_type": "markdown",
   "metadata": {},
   "source": [
    "### Insert data into the created tables"
   ]
  },
  {
   "cell_type": "markdown",
   "metadata": {},
   "source": [
    "####  Insert data into 'movies' table"
   ]
  },
  {
   "cell_type": "code",
   "execution_count": null,
   "metadata": {},
   "outputs": [],
   "source": [
    "query = \\\n",
    "\"\"\"\n",
    "INSERT INTO movies (title, poster_link, released_year, certificate, runtime, genre, overview, gross)\n",
    "SELECT Series_Title, Poster_Link, Released_Year, Certificate, Runtime, Genre, Overview, Gross\n",
    "FROM imdb;\n",
    "\"\"\"\n",
    "my_cursor.execute(query)"
   ]
  },
  {
   "cell_type": "markdown",
   "metadata": {},
   "source": [
    "####  Insert data into 'scores' table"
   ]
  },
  {
   "cell_type": "code",
   "execution_count": null,
   "metadata": {},
   "outputs": [],
   "source": [
    "query = \\\n",
    "\"\"\"\n",
    "INSERT INTO scores (movie_id, imdb_rating, meta_score)\n",
    "SELECT movie_id, IMDB_rating, Meta_score\n",
    "FROM imdb AS i\n",
    "LEFT JOIN movies AS m\n",
    "on i.Series_Title = m.title and i.Poster_Link = m.poster_link;\n",
    "\"\"\"\n",
    "my_cursor.execute(query)"
   ]
  },
  {
   "cell_type": "markdown",
   "metadata": {},
   "source": [
    "####  Insert data into 'roles' for Star1 (actor)"
   ]
  },
  {
   "cell_type": "code",
   "execution_count": null,
   "metadata": {},
   "outputs": [],
   "source": [
    "query = \\\n",
    "\"\"\"\n",
    "INSERT INTO roles (movie_id, actor_name, role)\n",
    "SELECT movie_id, Star1, \"Actor\"\n",
    "from imdb AS i\n",
    "LEFT JOIN movies AS m\n",
    "on i.Series_Title = m.title and i.Poster_Link = m.poster_link;\n",
    "\"\"\"\n",
    "my_cursor.execute(query)"
   ]
  },
  {
   "cell_type": "markdown",
   "metadata": {},
   "source": [
    "####  Insert data into 'roles' for Star2 (actor)"
   ]
  },
  {
   "cell_type": "code",
   "execution_count": null,
   "metadata": {},
   "outputs": [],
   "source": [
    "query = \\\n",
    "\"\"\"\n",
    "INSERT INTO roles (movie_id, actor_name, role)\n",
    "SELECT movie_id, Star2, \"Actor\"\n",
    "from imdb AS i\n",
    "LEFT JOIN movies AS m\n",
    "on i.Series_Title = m.title and i.Poster_Link = m.poster_link;\n",
    "\"\"\"\n",
    "my_cursor.execute(query)"
   ]
  },
  {
   "cell_type": "markdown",
   "metadata": {},
   "source": [
    "####  Insert data into 'roles' for Star3 (actor)"
   ]
  },
  {
   "cell_type": "code",
   "execution_count": null,
   "metadata": {},
   "outputs": [],
   "source": [
    "query = \\\n",
    "\"\"\"\n",
    "INSERT INTO roles (movie_id, actor_name, role)\n",
    "SELECT movie_id, Star3, \"Actor\"\n",
    "from imdb AS i\n",
    "LEFT JOIN movies AS m\n",
    "on i.Series_Title = m.title and i.Poster_Link = m.poster_link;\n",
    "\"\"\"\n",
    "my_cursor.execute(query)"
   ]
  },
  {
   "cell_type": "markdown",
   "metadata": {},
   "source": [
    "####  Insert data into 'roles' for Star4 (actor)"
   ]
  },
  {
   "cell_type": "code",
   "execution_count": null,
   "metadata": {},
   "outputs": [],
   "source": [
    "query = \\\n",
    "\"\"\"\n",
    "INSERT INTO roles (movie_id, actor_name, role)\n",
    "SELECT movie_id, Star4, \"Actor\"\n",
    "from imdb AS i\n",
    "LEFT JOIN movies AS m\n",
    "on i.Series_Title = m.title and i.Poster_Link = m.poster_link;\n",
    "\"\"\"\n",
    "my_cursor.execute(query)"
   ]
  },
  {
   "cell_type": "markdown",
   "metadata": {},
   "source": [
    "####  Insert data into 'roles' for Director"
   ]
  },
  {
   "cell_type": "code",
   "execution_count": null,
   "metadata": {},
   "outputs": [],
   "source": [
    "query = \\\n",
    "\"\"\"\n",
    "INSERT INTO roles (movie_id, actor_name, role)\n",
    "SELECT movie_id, Director, \"Director\"\n",
    "from imdb AS i\n",
    "LEFT JOIN movies AS m\n",
    "on i.Series_Title = m.title and i.Poster_Link = m.poster_link;\n",
    "\"\"\"\n",
    "my_cursor.execute(query)"
   ]
  },
  {
   "cell_type": "markdown",
   "metadata": {},
   "source": [
    "## Queries"
   ]
  },
  {
   "cell_type": "markdown",
   "metadata": {},
   "source": [
    "#### Retrieve top 5 movies based on IMDb ratings"
   ]
  },
  {
   "cell_type": "code",
   "execution_count": 42,
   "metadata": {},
   "outputs": [
    {
     "name": "stdout",
     "output_type": "stream",
     "text": [
      "{'title': 'The Shawshank Redemption', 'imdb_rating': Decimal('9.3')}\n",
      "{'title': 'The Godfather', 'imdb_rating': Decimal('9.2')}\n",
      "{'title': 'The Dark Knight', 'imdb_rating': Decimal('9.0')}\n",
      "{'title': 'The Godfather: Part II', 'imdb_rating': Decimal('9.0')}\n",
      "{'title': '12 Angry Men', 'imdb_rating': Decimal('9.0')}\n"
     ]
    }
   ],
   "source": [
    "query = \\\n",
    "\"\"\"\n",
    "select \n",
    "    m.title, s.imdb_rating \n",
    "from movies m\n",
    "left join scores s\n",
    "on m.movie_id = s.movie_id\n",
    "order by s.imdb_rating desc\n",
    "limit 5\n",
    "\"\"\"\n",
    "my_cursor.execute(query)\n",
    "for movie in my_cursor:\n",
    "    print(movie)"
   ]
  },
  {
   "cell_type": "markdown",
   "metadata": {},
   "source": [
    "#### Retrieve top 5 movies with the highest gross earnings\n"
   ]
  },
  {
   "cell_type": "code",
   "execution_count": 33,
   "metadata": {},
   "outputs": [
    {
     "name": "stdout",
     "output_type": "stream",
     "text": [
      "{'title': 'Star Wars: Episode VII - The Force Awakens', 'gross': Decimal('936662225.00')}\n",
      "{'title': 'Avatar', 'gross': Decimal('760507625.00')}\n",
      "{'title': 'Avengers: Infinity War', 'gross': Decimal('678815482.00')}\n",
      "{'title': 'Titanic', 'gross': Decimal('659325379.00')}\n",
      "{'title': 'The Avengers', 'gross': Decimal('623279547.00')}\n"
     ]
    }
   ],
   "source": [
    "query = \\\n",
    "\"\"\"\n",
    "select \n",
    "    title, gross \n",
    "from movies \n",
    "order by gross desc\n",
    "limit 5\n",
    "\"\"\"\n",
    "my_cursor.execute(query)\n",
    "for author in my_cursor:\n",
    "    print(author)"
   ]
  },
  {
   "cell_type": "markdown",
   "metadata": {},
   "source": [
    "#### Retrieve the director of the movie"
   ]
  },
  {
   "cell_type": "code",
   "execution_count": 41,
   "metadata": {},
   "outputs": [
    {
     "name": "stdout",
     "output_type": "stream",
     "text": [
      "{'actor_name': 'James Cameron'}\n"
     ]
    }
   ],
   "source": [
    "movie_name = 'Avatar'\n",
    "query = \\\n",
    "f\"\"\"\n",
    "select \n",
    "    actor_name\n",
    "from roles r \n",
    "left join movies m\n",
    "on r.movie_id = m.movie_id\n",
    "where m.title = '{movie_name}'\n",
    "and r.role = 'Director'\n",
    "\"\"\"\n",
    "my_cursor.execute(query)\n",
    "for author in my_cursor:\n",
    "    print(author)"
   ]
  }
 ],
 "metadata": {
  "kernelspec": {
   "display_name": "mlp",
   "language": "python",
   "name": "python3"
  },
  "language_info": {
   "codemirror_mode": {
    "name": "ipython",
    "version": 3
   },
   "file_extension": ".py",
   "mimetype": "text/x-python",
   "name": "python",
   "nbconvert_exporter": "python",
   "pygments_lexer": "ipython3",
   "version": "3.8.15"
  }
 },
 "nbformat": 4,
 "nbformat_minor": 2
}
